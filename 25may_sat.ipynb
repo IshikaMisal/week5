{
  "nbformat": 4,
  "nbformat_minor": 0,
  "metadata": {
    "colab": {
      "name": "25may-sat.ipynb",
      "version": "0.3.2",
      "provenance": []
    },
    "kernelspec": {
      "name": "python3",
      "display_name": "Python 3"
    }
  },
  "cells": [
    {
      "cell_type": "code",
      "metadata": {
        "id": "yXPwg55cWVuN",
        "colab_type": "code",
        "outputId": "6927b0ea-edcc-46a9-9e13-421de236beb9",
        "colab": {
          "base_uri": "https://localhost:8080/",
          "height": 34
        }
      },
      "source": [
        "x = [\"https://www.youtube.com/watch?v=tzW0hqPbQ30\",\"https://www.youtube.com/watch?v=XI29ZbcpVsc\",\"https://www.youtube.com/watch?v=XI29ZbcpVsc\",\"https://www.youtube.com/watch?v=qfdShSZZxlg\",\"https://www.youtube.com/watch?v=YZLKoG_vhDY\",\"https://www.youtube.com/watch?v=D-sDAM8QGVQ\",\"https://www.youtube.com/watch?v=BBAyRBTfsOU\",\"https://www.youtube.com/watch?v=NNqLB7znMLU\",\"https://www.youtube.com/watch?v=kd5KqlmcHNo\",\"https://www.youtube.com/watch?v=HoCwa6gnmM0\",\"https://www.youtube.com/watch?v=_cPHiwPqbqo\",\"https://www.youtube.com/watch?v=vu5-aKf_QqA\",\"https://www.youtube.com/watch?v=bzW9fmwcmG4\",\"https://www.youtube.com/watch?v=6CVVd9RB7CI\"]\n",
        "import time\n",
        "import webbrowser\n",
        "import random\n",
        "y = len(x)\n",
        "z=random.randint(0,13)\n",
        "a = x[z]\n",
        "totalbreak = 3\n",
        "initialcount = 0\n",
        "print(\"starton\",time.ctime())\n",
        "while initialcount<totalbreak:\n",
        "    time.sleep(10)\n",
        "    webbrowser.open(a)\n",
        "    initialcount=initialcount + 1\n"
      ],
      "execution_count": 0,
      "outputs": [
        {
          "output_type": "stream",
          "text": [
            "starton Sat May 25 11:42:49 2019\n"
          ],
          "name": "stdout"
        }
      ]
    },
    {
      "cell_type": "code",
      "metadata": {
        "id": "KV2RhJXC2q7c",
        "colab_type": "code",
        "outputId": "9fb70d27-3cce-47c5-a812-e517ffdb0021",
        "colab": {
          "base_uri": "https://localhost:8080/",
          "height": 34
        }
      },
      "source": [
        "class car:\n",
        "  def __init__(self,colour,body,wheels,doors,seat,engine,no_of_wheels):\n",
        "    self.colour=colour\n",
        "    self.body=body\n",
        "    self.wheels=wheels\n",
        "    self.doors=doors\n",
        "    self.seat=seat\n",
        "    self.engine=engine\n",
        "    self.no_of_wheels=no_of_wheels\n",
        "    \n",
        "  def horn(self):\n",
        "    print(\"peep\")\n",
        "\n",
        "icar=car(\"black\",\"metalic\",\"V-Groove\",\"vertical\",\"Canvas\",\"electric\",\"4\")\n",
        "icar.colour\n",
        "icar.horn()\n"
      ],
      "execution_count": 0,
      "outputs": [
        {
          "output_type": "stream",
          "text": [
            "peep\n"
          ],
          "name": "stdout"
        }
      ]
    },
    {
      "cell_type": "code",
      "metadata": {
        "id": "vEL0-qxGEP3m",
        "colab_type": "code",
        "outputId": "723e2127-de78-45b5-c5da-05470b88ab54",
        "colab": {
          "base_uri": "https://localhost:8080/",
          "height": 34
        }
      },
      "source": [
        "class animal:\n",
        " \n",
        "\n",
        "  def __init__(self,legs,tail,name,colour):\n",
        "   \n",
        "    self.legs=legs\n",
        "    self.tail=tail\n",
        "    self.name=name\n",
        "    self.colour=colour\n",
        "    \n",
        "  def dognoise(self):\n",
        "      print(\"sdf\")\n",
        "    \n",
        "  def catnoise(self):\n",
        "      print(\"meow\")\n",
        "  \n",
        "  dog=animal(\"4\",\"yes\",\"husky\",\"white\")\n",
        "\n",
        "  dog.dognoise()\n",
        "    "
      ],
      "execution_count": 0,
      "outputs": [
        {
          "output_type": "stream",
          "text": [
            "sdf\n"
          ],
          "name": "stdout"
        }
      ]
    },
    {
      "cell_type": "code",
      "metadata": {
        "id": "4ioLealuJX5p",
        "colab_type": "code",
        "outputId": "8f78ccbe-a118-4636-c1b8-f9d4289edc86",
        "colab": {
          "base_uri": "https://localhost:8080/",
          "height": 51
        }
      },
      "source": [
        "class complexno:\n",
        "  def __init__(self,x,y):\n",
        "    self.x=x\n",
        "    self.y=y\n",
        "    \n",
        "  def complex(self):\n",
        "    print(self.x , \"+\" , self.y , \"i\")\n",
        "\n",
        "a = complexno(11,6)\n",
        "a.complex()\n",
        "b= complexno(14,9)\n",
        "b.complex()\n",
        "    "
      ],
      "execution_count": 0,
      "outputs": [
        {
          "output_type": "stream",
          "text": [
            "11 + 6 i\n",
            "14 + 9 i\n"
          ],
          "name": "stdout"
        }
      ]
    }
  ]
}