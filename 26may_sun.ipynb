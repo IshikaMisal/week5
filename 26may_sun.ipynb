{
  "nbformat": 4,
  "nbformat_minor": 0,
  "metadata": {
    "colab": {
      "name": "26may_sun.ipynb",
      "version": "0.3.2",
      "provenance": []
    },
    "kernelspec": {
      "name": "python3",
      "display_name": "Python 3"
    }
  },
  "cells": [
    {
      "cell_type": "code",
      "metadata": {
        "id": "lIZECJbpYl2S",
        "colab_type": "code",
        "outputId": "a96f391e-dd1c-45da-dba2-27aa876dad3f",
        "colab": {
          "base_uri": "https://localhost:8080/",
          "height": 52
        }
      },
      "source": [
        "x={\"ram\":\"male\", \"laxman\":\"male\"}\n",
        "for k,v in x.items():\n",
        "  print(\"key:\"+k,\"value:\"+v)"
      ],
      "execution_count": 0,
      "outputs": [
        {
          "output_type": "stream",
          "text": [
            "key:ram value:male\n",
            "key:laxman value:male\n"
          ],
          "name": "stdout"
        }
      ]
    },
    {
      "cell_type": "code",
      "metadata": {
        "id": "SUV8IfjxbSEu",
        "colab_type": "code",
        "outputId": "cf3d12c1-165a-4384-8cfe-c439217d637f",
        "colab": {
          "base_uri": "https://localhost:8080/",
          "height": 87
        }
      },
      "source": [
        "x={\"ram\":[{\"Employcode\":\"ss16ec021\" , \"DOB\":10312001 , \"gender\":\"male\"}] , \"laxman\":[{\"Employcode\":\"ss16ec022\" , \"DOB\":10312002 , \"gender\":\"male\"}]}\n",
        "for k,v in x.items():\n",
        "  print(\"\\n\", k,v)"
      ],
      "execution_count": 0,
      "outputs": [
        {
          "output_type": "stream",
          "text": [
            "\n",
            " ram [{'Employcode': 'ss16ec021', 'DOB': 10312001, 'gender': 'male'}]\n",
            "\n",
            " laxman [{'Employcode': 'ss16ec022', 'DOB': 10312002, 'gender': 'male'}]\n"
          ],
          "name": "stdout"
        }
      ]
    },
    {
      "cell_type": "code",
      "metadata": {
        "id": "GTfUO71RcyWQ",
        "colab_type": "code",
        "outputId": "62e48644-c5d9-4271-f77b-27736d077ba2",
        "colab": {
          "base_uri": "https://localhost:8080/",
          "height": 72
        }
      },
      "source": [
        "x={\"ram\":[{\"Employcode\":\"ss16ec021\" , \"DOB\":10312001 , \"gender\":\"male\"}] , \"laxman\":[{\"Employcode\":\"ss16ec022\" , \"DOB\":10312002 , \"gender\":\"male\"}]}\n",
        "for i in x.keys():\n",
        "  print(x)"
      ],
      "execution_count": 0,
      "outputs": [
        {
          "output_type": "stream",
          "text": [
            "{'ram': [{'Employcode': 'ss16ec021', 'DOB': 10312001, 'gender': 'male'}], 'laxman': [{'Employcode': 'ss16ec022', 'DOB': 10312002, 'gender': 'male'}]}\n",
            "{'ram': [{'Employcode': 'ss16ec021', 'DOB': 10312001, 'gender': 'male'}], 'laxman': [{'Employcode': 'ss16ec022', 'DOB': 10312002, 'gender': 'male'}]}\n"
          ],
          "name": "stdout"
        }
      ]
    },
    {
      "cell_type": "code",
      "metadata": {
        "id": "yJm1B4olgrkh",
        "colab_type": "code",
        "colab": {}
      },
      "source": [
        "x={\"name\":\"ishika\" , \"dob\":\"31/10/2000\" , \"gender\":\"female\" , \"add\":\"kalyan(w)\" , \"adharno.\":\"12345\"}]}\n"
      ],
      "execution_count": 0,
      "outputs": []
    }
  ]
}